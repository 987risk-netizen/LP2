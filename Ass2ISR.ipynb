{
  "nbformat": 4,
  "nbformat_minor": 0,
  "metadata": {
    "colab": {
      "provenance": [],
      "authorship_tag": "ABX9TyMcL4V+obeu1e6GUCgRnkI9",
      "include_colab_link": true
    },
    "kernelspec": {
      "name": "python3",
      "display_name": "Python 3"
    },
    "language_info": {
      "name": "python"
    }
  },
  "cells": [
    {
      "cell_type": "markdown",
      "metadata": {
        "id": "view-in-github",
        "colab_type": "text"
      },
      "source": [
        "<a href=\"https://colab.research.google.com/github/987risk-netizen/LP2/blob/main/Ass2ISR.ipynb\" target=\"_parent\"><img src=\"https://colab.research.google.com/assets/colab-badge.svg\" alt=\"Open In Colab\"/></a>"
      ]
    },
    {
      "cell_type": "code",
      "execution_count": 3,
      "metadata": {
        "colab": {
          "base_uri": "https://localhost:8080/"
        },
        "id": "QGDW8dnmhcPK",
        "outputId": "c2add05a-b4e4-4ba2-bf3a-438c6956288a"
      },
      "outputs": [
        {
          "output_type": "stream",
          "name": "stdout",
          "text": [
            "Enter file names (with .txt): /content/abc.txt  /content/xyz.txt\n",
            "C1 = { D1 D2 }\n"
          ]
        }
      ],
      "source": [
        "# Single-Pass Clustering (Colab-ready)\n",
        "from collections import defaultdict\n",
        "\n",
        "THRESH = 0.60\n",
        "\n",
        "# --- Input ---\n",
        "files = input(\"Enter file names (with .txt): \").split()\n",
        "if len(files) < 2: raise SystemExit(\"Need at least 2 files\")\n",
        "\n",
        "# --- Read all docs & vocab ---\n",
        "docs, vocab = [], set()\n",
        "for fn in files:\n",
        "    c = defaultdict(int)\n",
        "    for line in open(fn):\n",
        "        w, n = line.split()\n",
        "        c[w] += int(n)\n",
        "        vocab.add(w)\n",
        "    docs.append(c)\n",
        "\n",
        "terms = sorted(vocab)\n",
        "vec = lambda c: [c.get(t, 0) for t in terms]\n",
        "X = [vec(c) for c in docs]\n",
        "\n",
        "# --- Similarity ---\n",
        "dice = lambda a,b: (2*sum(x*y for x,y in zip(a,b))) / (sum(x*x for x in a)+sum(y*y for y in b) or 1)\n",
        "\n",
        "# --- Clustering ---\n",
        "clusters = [[0]]  # list of member indices\n",
        "centroids = [X[0][:]]\n",
        "\n",
        "for i, v in enumerate(X[1:], 1):\n",
        "    sims = [dice(v, cen) for cen in centroids]\n",
        "    best = max(range(len(sims)), key=sims.__getitem__)\n",
        "    if sims[best] >= THRESH:\n",
        "        clusters[best].append(i)\n",
        "        n = len(clusters[best])\n",
        "        centroids[best] = [(c*(n-1)+vi)/n for c,vi in zip(centroids[best], v)]\n",
        "    else:\n",
        "        clusters.append([i])\n",
        "        centroids.append(v[:])\n",
        "\n",
        "# --- Output ---\n",
        "for ci, members in enumerate(clusters, 1):\n",
        "    print(f\"C{ci} = {{ {' '.join(f'D{m+1}' for m in members)} }}\")\n",
        "\n"
      ]
    }
  ]
}